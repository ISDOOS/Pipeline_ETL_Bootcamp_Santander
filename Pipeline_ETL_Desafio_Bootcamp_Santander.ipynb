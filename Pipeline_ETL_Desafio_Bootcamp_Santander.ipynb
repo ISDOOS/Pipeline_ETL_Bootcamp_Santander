{
  "nbformat": 4,
  "nbformat_minor": 0,
  "metadata": {
    "colab": {
      "provenance": [],
      "collapsed_sections": [
        "kNuP0SDUZMBY"
      ]
    },
    "kernelspec": {
      "name": "python3",
      "display_name": "Python 3"
    },
    "language_info": {
      "name": "python"
    }
  },
  "cells": [
    {
      "cell_type": "markdown",
      "source": [
        "# Esse é meu pipeline para o Desafio do Bootcamp Santander - Ciência de dados - 2023 (ETL com Python).\n",
        "\n",
        "Foi utilizado como base, a lógica inical apresentada nas aulas.\n",
        "Minhas contribuições e adaptações consistem em utilizar apenas das ferramentas que o pacote da Google Oferece."
      ],
      "metadata": {
        "id": "BPJQsTCULaC-"
      }
    },
    {
      "cell_type": "markdown",
      "source": [
        "**Contexto:** Sou um cientista de dados trabalhando com Mediação de conflitos e justiça restaurativa para um famoso escritório. Recebi a tarefa de resumir contextos de alguns casos para o Gerente Geral. Meu objetivo é usar o poder da IA Generativa para criar resumos objetivos e também justificar o uso do pacote de produtos da Google, pago anualmente."
      ],
      "metadata": {
        "id": "k5fA5OrXt1a3"
      }
    },
    {
      "cell_type": "markdown",
      "source": [
        "## **E**xtract\n",
        "\n",
        "Existe uma planilha de dados, no Google Sheets, com os dados de clientes e as métricas que foram coletadas pelo pós-venda para demonstração de obejtivo ao Gerente Geral.\n",
        "\n",
        "Realizamos a extração dos dados da planilha do Google Sheets. Isso envolve fazer uma solicitação HTTP para obter o arquivo CSV da planilha e, em seguida, ler esse CSV em um DataFrame do Pandas."
      ],
      "metadata": {
        "id": "9dfI-o7gLRq9"
      }
    },
    {
      "cell_type": "code",
      "source": [
        "import pandas as pd\n",
        "import requests\n",
        "import io\n",
        "\n",
        "def extrair_dados(url):\n",
        "    response = requests.get(url)\n",
        "    if response.status_code == 200:\n",
        "        return pd.read_csv(io.StringIO(response.text), encoding='utf-8')\n",
        "    else:\n",
        "        print(\"Erro ao fazer o download da planilha.\")\n",
        "        return None\n",
        "\n",
        "url_csv = \"https://docs.google.com/spreadsheets/d/1U8K-mUmiOl6-2LXCEhmzkQFc4R1ZHpjzXWx1ERJTclg/export?format=csv\"\n",
        "\n",
        "df_extracao = extrair_dados(url_csv)\n",
        "\n",
        "if df_extracao is not None:\n",
        "    print(\"Extração concluída.\")\n"
      ],
      "metadata": {
        "colab": {
          "base_uri": "https://localhost:8080/"
        },
        "id": "Tx3DC80WwPV9",
        "outputId": "49de4ca4-335c-49f5-afec-fddbfa85e699"
      },
      "execution_count": 24,
      "outputs": [
        {
          "output_type": "stream",
          "name": "stdout",
          "text": [
            "Extração concluída.\n"
          ]
        }
      ]
    },
    {
      "cell_type": "markdown",
      "source": [
        "## **T**ransform\n",
        "\n",
        "Nesta parte, é feita a transformação dos dados conforme necessário.\n",
        "\n",
        "No código abaixo, estamos selecionando os campos relevantes da planilha (nome, problema, solução e motivo para usar a mediação) com base na solicitação da consulta."
      ],
      "metadata": {
        "id": "cWoqInB4TF1x"
      }
    },
    {
      "cell_type": "code",
      "source": [
        "\n",
        "def transformar_dados(df, escolha):\n",
        "    linha_escolhida = df.iloc[escolha - 1]\n",
        "    nome = linha_escolhida[\"NOME\"]\n",
        "    problema = linha_escolhida[\"PROBLEMA_JUDICIAL\"]\n",
        "    solucao = linha_escolhida[\"SOLUCAO_USANDO_MEDIACAO_DE_CONFLITOS\"]\n",
        "    pq_usa_med = linha_escolhida[\"PORQUE_PROCURAR_MEDIACAO\"]\n",
        "    relatorio = f\"NOME: {nome}\\nPROBLEMA: {problema}\\nSOLUCAO: {solucao}\\nPQ USA MEDIACAO: {pq_usa_med}\"\n",
        "    return relatorio\n",
        "\n",
        "print(\"Selecione um nome da lista:\")\n",
        "nomes_disponiveis = df_extracao[\"NOME\"].tolist()\n",
        "for i, nome in enumerate(nomes_disponiveis, start=1):\n",
        "    print(f\"{i}. {nome}\")\n",
        "\n",
        "escolha = int(input(\"Digite o número correspondente ao nome desejado: \"))\n",
        "if escolha < 1 or escolha > len(nomes_disponiveis):\n",
        "    print(\"Escolha inválida. Por favor, escolha um número correspondente a um nome da lista.\")\n",
        "else:\n",
        "    relatorio = transformar_dados(df_extracao, escolha)\n",
        "    print(relatorio)\n"
      ],
      "metadata": {
        "colab": {
          "base_uri": "https://localhost:8080/"
        },
        "id": "dSnOeJmJwQOn",
        "outputId": "1145af7d-0ab8-4c48-cead-6cc1cd24a9aa"
      },
      "execution_count": 25,
      "outputs": [
        {
          "output_type": "stream",
          "name": "stdout",
          "text": [
            "Selecione um nome da lista:\n",
            "1. Joao\n",
            "2. Maria\n",
            "3. Carlos\n",
            "4. Ana\n",
            "5. Jose\n",
            "6. Mariana\n",
            "7. Antonio\n",
            "8. Isabel\n",
            "9. Fernando\n",
            "10. Patricia\n",
            "Digite o número correspondente ao nome desejado: 4\n",
            "NOME: Ana\n",
            "PROBLEMA: HeranÃ§a Contestada\n",
            "SOLUCAO: Mediacao de HeranÃ§a\n",
            "PQ USA MEDIACAO: Ana estava envolvida em uma disputa de heranca com sua familia, o que estava causando tensoes significativas. Ela optou por mediacao de heranca para evitar brigas familiares prolongadas e manter a paz dentro da familia.\n"
          ]
        }
      ]
    },
    {
      "cell_type": "markdown",
      "source": [
        "## **L**oad\n",
        "\n",
        "Nesta parte, salvamos os dados transformados, que representam o relatório, em um arquivo CSV. O usuário pode optar por salvar ou não o relatório em CSV."
      ],
      "metadata": {
        "id": "kNuP0SDUZMBY"
      }
    },
    {
      "cell_type": "code",
      "source": [
        "def carregar_dados_em_csv(relatorio, nome):\n",
        "    output_dir = \"relatorios/\"\n",
        "    os.makedirs(output_dir, exist_ok=True)\n",
        "    nome_arquivo = f\"{output_dir}relatorio_{nome}.csv\"\n",
        "    relatorio_encoded = relatorio.encode('utf-8')\n",
        "    with open(nome_arquivo, mode='wb') as file:\n",
        "        file.write(relatorio_encoded)\n",
        "    print(f\"Relatório salvo em {nome_arquivo}\")\n",
        "\n",
        "salvar_csv = input(\"\\nDeseja salvar o relatório em CSV? (Sim ou Não): \").strip().lower()\n",
        "if salvar_csv == \"sim\":\n",
        "    carregar_dados_em_csv(relatorio, nomes_disponiveis[escolha - 1])\n",
        "\n",
        "print(\"Programa encerrado.\")\n"
      ],
      "metadata": {
        "colab": {
          "base_uri": "https://localhost:8080/"
        },
        "id": "_b1eVrBWwRx0",
        "outputId": "0b75fcca-d8a4-4599-cf2c-ba27ab293131"
      },
      "execution_count": 26,
      "outputs": [
        {
          "output_type": "stream",
          "name": "stdout",
          "text": [
            "\n",
            "Deseja salvar o relatório em CSV? (Sim ou Não): Sim\n",
            "Relatório salvo em relatorios/relatorio_Ana.csv\n",
            "Programa encerrado.\n"
          ]
        }
      ]
    }
  ]
}